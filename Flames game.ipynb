{
 "cells": [
  {
   "cell_type": "code",
   "execution_count": 2,
   "id": "0fd901b0",
   "metadata": {},
   "outputs": [
    {
     "name": "stdout",
     "output_type": "stream",
     "text": [
      "enter the first name : amine\n",
      "enter the second name : aziz\n",
      "Relationship status : Friends\n"
     ]
    }
   ],
   "source": [
    "list1=input('enter the first name : ')\n",
    "list2=input('enter the second name : ')\n",
    "def erase(list1, list2):\n",
    "    list3 = []\n",
    "    list4 = []\n",
    "    list5 = []\n",
    "    b = 0\n",
    "    c = 0\n",
    "    list6 = []\n",
    "    for i in range(len(list1)):\n",
    "        if list1[i] not in list1[:i]:\n",
    "            if list1.count(list1[i]) <= list2.count(list1[i]):\n",
    "                for j in range(list1.count(list1[i])):\n",
    "                    list3.append(list1[i])\n",
    "            elif list1.count(list1[i]) > list2.count(list1[i]):\n",
    "                for a in range(list2.count(list1[i])):\n",
    "                    list3.append(list1[i])\n",
    "    for k in range(len(list3)):\n",
    "        list4.append(list3[k])\n",
    "    while b < len(list1):\n",
    "        if list1[b] not in list3:\n",
    "            list5.append(list1[b])\n",
    "        elif list1[b] in list3:\n",
    "            list3.remove(list1[b])\n",
    "        b += 1\n",
    "    while c < len(list2):\n",
    "        if list2[c] not in list4:\n",
    "            list6.append(list2[c])\n",
    "        elif list2[c] in list4:\n",
    "            list4.remove(list2[c])\n",
    "        c += 1\n",
    "    count = len(list5) + len(list6)\n",
    "    FLAMES = [\"Friends\", \"Love\", \"Affection\", \"Marriage\", \"Enemy\", \"Siblings\"]\n",
    "    while len(FLAMES) > 1:\n",
    "        split_index = (count % len(FLAMES) - 1)\n",
    "        if split_index >= 0:\n",
    "            right = FLAMES[split_index + 1:]\n",
    "            left = FLAMES[: split_index]\n",
    "            FLAMES = right + left\n",
    "        else:\n",
    "            FLAMES = FLAMES[: len(FLAMES) - 1]\n",
    "\n",
    "    print(\"Relationship status :\", FLAMES[0])\n",
    "\n",
    "erase(list1, list2)"
   ]
  },
  {
   "cell_type": "code",
   "execution_count": null,
   "id": "7e122124",
   "metadata": {},
   "outputs": [],
   "source": []
  }
 ],
 "metadata": {
  "kernelspec": {
   "display_name": "Python 3",
   "language": "python",
   "name": "python3"
  },
  "language_info": {
   "codemirror_mode": {
    "name": "ipython",
    "version": 3
   },
   "file_extension": ".py",
   "mimetype": "text/x-python",
   "name": "python",
   "nbconvert_exporter": "python",
   "pygments_lexer": "ipython3",
   "version": "3.8.8"
  }
 },
 "nbformat": 4,
 "nbformat_minor": 5
}
